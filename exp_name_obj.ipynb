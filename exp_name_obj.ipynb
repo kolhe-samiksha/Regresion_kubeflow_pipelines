{
 "cells": [
  {
   "cell_type": "code",
   "execution_count": 1,
   "id": "e6014362-35a6-4d77-9a94-fe65cb5016d8",
   "metadata": {},
   "outputs": [],
   "source": [
    "import pickle\n",
    "\n",
    "exp_name = 'house_price_prediction_katonic_sdk_pipeline_app'\n",
    "pickle_out = open(\"exp_name_obj.pickle\",\"wb\")\n",
    "pickle.dump(exp_name, pickle_out)"
   ]
  },
  {
   "cell_type": "code",
   "execution_count": null,
   "id": "7e59c7e1-1309-4d3d-92ad-ebf3ab04cb59",
   "metadata": {},
   "outputs": [],
   "source": []
  }
 ],
 "metadata": {
  "kernelspec": {
   "display_name": "Python 3 (ipykernel)",
   "language": "python",
   "name": "python3"
  },
  "language_info": {
   "codemirror_mode": {
    "name": "ipython",
    "version": 3
   },
   "file_extension": ".py",
   "mimetype": "text/x-python",
   "name": "python",
   "nbconvert_exporter": "python",
   "pygments_lexer": "ipython3",
   "version": "3.9.7"
  }
 },
 "nbformat": 4,
 "nbformat_minor": 5
}
