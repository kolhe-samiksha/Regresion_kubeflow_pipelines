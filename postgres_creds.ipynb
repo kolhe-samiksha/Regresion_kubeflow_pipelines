{
 "cells": [
  {
   "cell_type": "code",
   "execution_count": 1,
   "id": "835bf489-f200-40fc-8abb-97f1e590e47b",
   "metadata": {},
   "outputs": [],
   "source": [
    "import numpy as np\n",
    "import pandas as pd\n",
    "import json"
   ]
  },
  {
   "cell_type": "code",
   "execution_count": 6,
   "id": "d327ec15-6227-4540-9e69-3a66ef101260",
   "metadata": {},
   "outputs": [],
   "source": [
    "dictionary = {\n",
    "    \"HOST\": \"20.204.230.16\",\n",
    "    \"PORT\": 5432,\n",
    "    \"DB_NAME\": \"postgres\",\n",
    "    \"USER\": \"postgres\",\n",
    "    \"PASSWORD\": \"JQBWiOIz5l\",\n",
    "    \"TABLE_NAME\": \"House_Data\",\n",
    "    \"DB_SCHEMA\": \"public\"\n",
    "}\n",
    "\n",
    "# Serializing json\n",
    "json_object = json.dumps(dictionary, indent=2)\n",
    "\n",
    "# Writing to sample.json\n",
    "with open(\"postgres_cred.json\", \"w\") as outfile:\n",
    "    outfile.write(json_object)"
   ]
  },
  {
   "cell_type": "code",
   "execution_count": null,
   "id": "542121e8-db09-4507-8e36-1db4768f1246",
   "metadata": {},
   "outputs": [],
   "source": []
  }
 ],
 "metadata": {
  "kernelspec": {
   "display_name": "Python 3 (ipykernel)",
   "language": "python",
   "name": "python3"
  },
  "language_info": {
   "codemirror_mode": {
    "name": "ipython",
    "version": 3
   },
   "file_extension": ".py",
   "mimetype": "text/x-python",
   "name": "python",
   "nbconvert_exporter": "python",
   "pygments_lexer": "ipython3",
   "version": "3.9.7"
  }
 },
 "nbformat": 4,
 "nbformat_minor": 5
}
