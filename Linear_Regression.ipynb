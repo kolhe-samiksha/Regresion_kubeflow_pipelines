{
 "cells": [
  {
   "cell_type": "code",
   "execution_count": null,
   "id": "ae8363c3-e965-42ec-93af-c975f17ed497",
   "metadata": {},
   "outputs": [],
   "source": [
    "from sklearn.model_selection import train_test_split\n",
    "import pandas as pd\n",
    "import pickle\n",
    "import numpy as np\n",
    "\n",
    "import os\n",
    "os.system('pip install katonic-1.6.1-py3-none-any.whl[ml]')\n",
    "os.system('pip install scikit-learn')\n",
    "os.system('pip install plotly')\n",
    "\n",
    "\n",
    "from katonic.ml.client import set_exp\n",
    "from katonic.ml.regression import Regressor\n",
    "import plotly"
   ]
  },
  {
   "cell_type": "code",
   "execution_count": null,
   "id": "38bf6bf3-242f-41ed-8586-be9d508a7ebb",
   "metadata": {},
   "outputs": [],
   "source": [
    "data = pd.read_csv('Feature_engineering.csv')\n",
    "data"
   ]
  },
  {
   "cell_type": "code",
   "execution_count": 6,
   "id": "cce40793-3520-40e1-975a-b92232c54d32",
   "metadata": {},
   "outputs": [],
   "source": [
    "# Splitting the Dataset.\n",
    "\n",
    "X=data.drop('price',axis='columns')\n",
    "y=data.price"
   ]
  },
  {
   "cell_type": "markdown",
   "id": "be372450-d134-4d00-9337-ecc39c70bdaf",
   "metadata": {},
   "source": [
    "#### Split the dataset into training and validation sets"
   ]
  },
  {
   "cell_type": "code",
   "execution_count": 7,
   "id": "91fae132-ef7a-499a-b187-63f670f96943",
   "metadata": {},
   "outputs": [],
   "source": [
    "# Before doing the training. We need to split the data for training and testing.\n",
    "# Separating the data into Dependent and independent features.\n",
    "\n",
    "X_train,X_test,y_train,y_test=train_test_split(X,y,test_size=0.2)"
   ]
  },
  {
   "cell_type": "code",
   "execution_count": 8,
   "id": "8e21bb7d-7331-4283-9e45-e06cc76c00ac",
   "metadata": {},
   "outputs": [
    {
     "data": {
      "text/plain": [
       "<Experiment: artifact_location='s3://models/32', creation_time=1680167319396, experiment_id='32', last_update_time=1680167319396, lifecycle_stage='active', name='house_price_prediction_katonic_sdk_pipeline', tags={}>"
      ]
     },
     "execution_count": 8,
     "metadata": {},
     "output_type": "execute_result"
    }
   ],
   "source": [
    "exp_name = \"house_price_prediction_katonic_sdk_pipeline\"\n",
    "set_exp(exp_name)"
   ]
  },
  {
   "cell_type": "code",
   "execution_count": 11,
   "id": "3649a78d-c49c-4b7b-9985-6276b8b8dc4d",
   "metadata": {},
   "outputs": [],
   "source": [
    "artifacts = {\n",
    "    \"data_path\": \"/home/katonic/house_price_pipelines/Bengaluru_House_Data.csv\",\n",
    "}"
   ]
  },
  {
   "cell_type": "code",
   "execution_count": 12,
   "id": "ef8688e4-b5b7-4233-b1ad-42b1997c8b5d",
   "metadata": {},
   "outputs": [],
   "source": [
    "regressor = Regressor(\n",
    "    X_train,\n",
    "    X_test,\n",
    "    y_train,\n",
    "    y_test,\n",
    "    experiment_name=exp_name,\n",
    "    source_name=\"House_Price_pred_mlflow_sdk_test.ipynb\", # /home/katonic/model-cluster-backup/\n",
    "    features=X_train.columns.to_list(),\n",
    "    artifacts=artifacts,\n",
    ")"
   ]
  },
  {
   "cell_type": "code",
   "execution_count": 15,
   "id": "272f5111-c9a6-46f2-9991-5f0ad4a51b53",
   "metadata": {},
   "outputs": [
    {
     "name": "stderr",
     "output_type": "stream",
     "text": [
      "\u001b[32m[I 2023-03-30 13:38:28,737]\u001b[0m A new study created in memory with name: no-name-37070e73-e78f-40fb-be2e-bfa40e58afba\u001b[0m\n",
      "\u001b[32m[I 2023-03-30 13:38:31,403]\u001b[0m Trial 0 finished with value: 0.8544124751926812 and parameters: {}. Best is trial 0 with value: 0.8544124751926812.\u001b[0m\n",
      "\u001b[32m[I 2023-03-30 13:38:34,185]\u001b[0m Trial 1 finished with value: 0.8544124751926812 and parameters: {}. Best is trial 0 with value: 0.8544124751926812.\u001b[0m\n",
      "\u001b[32m[I 2023-03-30 13:38:36,874]\u001b[0m Trial 2 finished with value: 0.8544124751926812 and parameters: {}. Best is trial 0 with value: 0.8544124751926812.\u001b[0m\n",
      "\u001b[32m[I 2023-03-30 13:38:39,526]\u001b[0m Trial 3 finished with value: 0.8544124751926812 and parameters: {}. Best is trial 0 with value: 0.8544124751926812.\u001b[0m\n",
      "\u001b[32m[I 2023-03-30 13:38:42,217]\u001b[0m Trial 4 finished with value: 0.8544124751926812 and parameters: {}. Best is trial 0 with value: 0.8544124751926812.\u001b[0m\n"
     ]
    },
    {
     "name": "stdout",
     "output_type": "stream",
     "text": [
      "Number of finished trials:  5\n",
      "Best trial:\n",
      "  R2:  0.8544124751926812\n",
      "  Params: \n"
     ]
    },
    {
     "data": {
      "text/html": [
       "<iframe\n",
       "    scrolling=\"no\"\n",
       "    width=\"100%\"\n",
       "    height=\"545px\"\n",
       "    src=\"iframe_figures/figure_15.html\"\n",
       "    frameborder=\"0\"\n",
       "    allowfullscreen\n",
       "></iframe>\n"
      ]
     },
     "metadata": {},
     "output_type": "display_data"
    }
   ],
   "source": [
    "regressor.LinearRegression()\n",
    "\n",
    "params = {\n",
    "    \"normalize\": [True, False],\n",
    "    \"fit_intercept\": [True, False],\n",
    "} \n",
    "\n",
    "lr_model = regressor.LinearRegression(is_tune = True, params = params)"
   ]
  },
  {
   "cell_type": "code",
   "execution_count": 16,
   "id": "492f5bce-e9da-4cf7-9a66-f70650dc5b81",
   "metadata": {},
   "outputs": [],
   "source": [
    "pickle_out = open(\"linear_regression.pickle\",\"wb\")\n",
    "pickle.dump(lr_model, pickle_out)"
   ]
  },
  {
   "cell_type": "code",
   "execution_count": null,
   "id": "d4961145-3b87-4ea0-9d02-bae23ad36f11",
   "metadata": {},
   "outputs": [],
   "source": []
  }
 ],
 "metadata": {
  "kernelspec": {
   "display_name": "Python 3 (ipykernel)",
   "language": "python",
   "name": "python3"
  },
  "language_info": {
   "codemirror_mode": {
    "name": "ipython",
    "version": 3
   },
   "file_extension": ".py",
   "mimetype": "text/x-python",
   "name": "python",
   "nbconvert_exporter": "python",
   "pygments_lexer": "ipython3",
   "version": "3.9.7"
  }
 },
 "nbformat": 4,
 "nbformat_minor": 5
}
